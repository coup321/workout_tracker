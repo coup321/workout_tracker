{
 "cells": [
  {
   "cell_type": "code",
   "execution_count": 4,
   "metadata": {},
   "outputs": [],
   "source": [
    "with open('intput.txt') as f:\n",
    "    file = f.readlines()"
   ]
  },
  {
   "cell_type": "code",
   "execution_count": 14,
   "metadata": {
    "scrolled": true
   },
   "outputs": [
    {
     "name": "stdout",
     "output_type": "stream",
     "text": [
      "A <a modularity.txt modular> program consists\n",
      "of software components that satisfy the following\n",
      "two properties:\n",
      "<p> 1. Cohesion: each component performs one\n",
      "well−defined task.\n",
      "<p> 2. Independence: each component is as <a\n",
      "independence.txt independent> as possible from the\n",
      "others.\n",
      "<p> Modularity is usually achieved through some\n",
      "combination of the following:\n",
      "<p>\n",
      "procedural abstraction <br>\n",
      "data abstraction <br>\n",
      "object−oriented programmin\n"
     ]
    }
   ],
   "source": [
    "for x in file:\n",
    "    print(x[:-1])"
   ]
  },
  {
   "cell_type": "code",
   "execution_count": 15,
   "metadata": {},
   "outputs": [
    {
     "name": "stdout",
     "output_type": "stream",
     "text": [
      "['A <a modularity.txt modular> program consists\\n', 'of software components that satisfy the following\\n', 'two properties:\\n', '<p> 1. Cohesion: each component performs one\\n', 'well−defined task.\\n', '<p> 2. Independence: each component is as <a\\n', 'independence.txt independent> as possible from the\\n', 'others.\\n', '<p> Modularity is usually achieved through some\\n', 'combination of the following:\\n', '<p>\\n', 'procedural abstraction <br>\\n', 'data abstraction <br>\\n', 'object−oriented programming']\n"
     ]
    }
   ],
   "source": [
    "print(file)"
   ]
  },
  {
   "cell_type": "code",
   "execution_count": 31,
   "metadata": {},
   "outputs": [
    {
     "name": "stdout",
     "output_type": "stream",
     "text": [
      "A <modular>[1] program consists of software components that satisfy the following two properties: <p> 1. Cohesion: each component performs one well−defined task. <p> 2. Independence: each component is as <independent>[2] as possible from the others. <p> Modularity is usually achieved through some combination of the following: <p> procedural abstraction <br> data abstraction <br> object−oriented programmin \n"
     ]
    }
   ],
   "source": [
    "#copy so we don't modify the original\n",
    "file2 = file.copy()\n",
    "word_file = []\n",
    "for x in file2:\n",
    "    word_file.append(x[:-1])\n",
    "word_file = ' '.join(word_file)\n",
    "\n",
    "def links(word_file):\n",
    "    # this is a function that replaces links in a \n",
    "    # word list with thier name and id number\n",
    "    output = ''\n",
    "    w = word_filesplit(' ')\n",
    "    i = 0\n",
    "    c = 1\n",
    "    while i < len(w):\n",
    "        if w[i] == '<a':\n",
    "            output += '<{}[{}] '.format(w[i+2], c)\n",
    "            i = i + 2\n",
    "            c += 1\n",
    "        else:\n",
    "            output += w[i] + ' '\n",
    "        i += 1          \n",
    "    return output\n",
    "\n",
    "print(links(word_file))\n"
   ]
  },
  {
   "cell_type": "code",
   "execution_count": null,
   "metadata": {},
   "outputs": [],
   "source": []
  }
 ],
 "metadata": {
  "kernelspec": {
   "display_name": "Python 3",
   "language": "python",
   "name": "python3"
  },
  "language_info": {
   "codemirror_mode": {
    "name": "ipython",
    "version": 3
   },
   "file_extension": ".py",
   "mimetype": "text/x-python",
   "name": "python",
   "nbconvert_exporter": "python",
   "pygments_lexer": "ipython3",
   "version": "3.7.1"
  }
 },
 "nbformat": 4,
 "nbformat_minor": 2
}
