{
 "cells": [
  {
   "cell_type": "markdown",
   "metadata": {},
   "source": [
    "# Munge Notebook\n",
    "\n",
    "### Intput and Output\n",
    "This notebook is written for **input** in the format of:<br>\n",
    "**Header** : *\"date, exercise, sets\"*<br>\n",
    "**Rows** : *\"mm-dd-yyyy, exercise name, reps&ast;wt,reps&ast;wt,..,reps&ast;wt*\"\n",
    "\n",
    "It's **output** is written to ../data/cleaned_data.csv as:<br>\n",
    "**Header** : *\"date, exercise, reps, weight, 1RM\"*<br>\n",
    "**Rows** : *\"mm-dd-yyyy, exercise name, reps, weight\"*\n",
    "\n",
    "Each row in the output file represents a single set on the given date.\n",
    "\n",
    "The following exercise names are accepted, else the script will provide an error indicating the row number where there is an error and the string that does not comply with naming conventions.\n",
    "\n",
    "### Naming Conventions\n",
    "\n",
    "Chest\n",
    "- Bench press = BP\n",
    "- Dumbell bench press = dumbell bp = db bp\n",
    "- Dumbell incline press = DB incline press\n",
    "- Barbell incline press = BB incline press\n",
    "- Machine fly\n",
    "\n",
    "Tricep\n",
    "- Cable pullover\n",
    "- Cable pushdown\n",
    "- Close grip bench press = Close grip BP\n",
    "- Barbell reverse tricep extension = Barbell reverese tricep ext\n",
    "- Single arm cable extension\n",
    "- Dips\n",
    "\n",
    "Back\n",
    "- Cable row\n",
    "- Lat pulldown\n",
    "- Dumbell row = DB row\n",
    "- Smith bent row\n",
    "\n",
    "Bicep\n",
    "- BARBELL CURL = BB Curl\n",
    "- CABLE CURL\n",
    "- Dumbell curl = DB curl\n",
    "- Hammer curl\n",
    "\n",
    "Shoulders\n",
    "- Cable side raise\n",
    "- Standing bumbell shoudler press = Standing DB shoulder press\n",
    "- Standing barbell shoudler press = Standing BB shoudler press\n",
    "- Sitting bumbell shoudler press = Standing DB shoulder press\n",
    "- Sitting barbell shoudler press = Standing BB shoudler press\n",
    "- Smith seated press\n",
    "\n",
    "\n",
    "\n",
    "Legs\n",
    "- Deadlift = DL\n",
    "- Squat\n",
    "- Leg extension = Leg ext\n",
    "- Leg curl\n",
    "- Smith deadlift = Smith DL\n",
    "- Smith squat\n",
    "- Bulgarian split squat\n",
    "\n"
   ]
  },
  {
   "cell_type": "code",
   "execution_count": 1,
   "metadata": {},
   "outputs": [
    {
     "name": "stdout",
     "output_type": "stream",
     "text": [
      "File ID: 1lAL6joe4fOhOmT1cSaVaNofV9N5YxvVg\n"
     ]
    }
   ],
   "source": [
    "import pandas as pd\n",
    "import seaborn as sns\n",
    "import matplotlib.pyplot as plt\n",
    "import numpy as np\n",
    "import google_drive\n",
    "import re"
   ]
  },
  {
   "cell_type": "code",
   "execution_count": 2,
   "metadata": {},
   "outputs": [],
   "source": [
    "#import excel file from google drive\n",
    "df = pd.read_excel(google_drive.get_file(), usecols=2)\n",
    "df['Exercise'] = df.Exercise.str.lower().str.strip()"
   ]
  },
  {
   "cell_type": "code",
   "execution_count": 3,
   "metadata": {},
   "outputs": [],
   "source": [
    "#dict of acceptable naming of exercises\n",
    "exercises = {\n",
    "    'chest': ['bench press','bp','dumbbell incline press','db incline press',\n",
    "             'barbell incline press','bb incline press','machine fly',\n",
    "             'dumbbell bench press', 'dumbell bp', 'db bp'],\n",
    "    \n",
    "    'tricep': ['cable pullover','cable pushdown','close grip bench press',\n",
    "              'close grip bp','barbell reverse tricep extension',\n",
    "              'barbell reverse tricep ext', 'single arm cable extension', 'dips'],\n",
    "    \n",
    "    'back': ['cable row','lat pulldown','dumbbell row','db row','smith bent row'],\n",
    "    \n",
    "    'bicep': ['barbell curl','bb curl','cable curl','dumbbell curl',\n",
    "              'db curl', 'hammer curl'],\n",
    "    \n",
    "    'shoulders': ['cable side raise','standing dumbbell shoulder press',\n",
    "                 'standing db shoulder press','standing barbell shoulder press',\n",
    "                  'standing bb shoulder press','sitting barbell shoulder press',\n",
    "                  'sitting bb shoulder press','sitting dumbbell shoulder press',\n",
    "                  'sitting dumbell shoulder press','smith seated press'],\n",
    "    \n",
    "    'legs':['deadlift','dl','squat','leg ext','leg extension','leg curl',\n",
    "           'smith deadlift','smith dl','smith squat', 'bulgarian split squat']\n",
    "}"
   ]
  },
  {
   "cell_type": "code",
   "execution_count": 4,
   "metadata": {},
   "outputs": [],
   "source": [
    "def check_names(df):\n",
    "    # Checks names of exercises\n",
    "    #\n",
    "    # If any are not in the exercise list, it will print\n",
    "    # the bad indices and the exercise in question\n",
    "    # \n",
    "    # Returns bool dataframe of indices that have\n",
    "    # exercises within the list\n",
    "    \n",
    "    all_exercises = sum(exercises.values(), [])\n",
    "    check = df.Exercise.str.lower().isin(all_exercises)\n",
    "    if len(check[check == False]) > 0:        \n",
    "        print(\"Please check naming at indeces: \\n\")\n",
    "        print(df[check == False].Exercise)\n",
    "        print('\\n')\n",
    "    else: \n",
    "        print('Name formatting is all good')\n",
    "    return check\n",
    "    \n",
    "def check_sets(df):\n",
    "    # Checks that set format is: reps*weight,....,reps*weight\n",
    "    # \n",
    "    # If any are not in this format, will print bad indices and set in question\n",
    "    #\n",
    "    # Returns bool dataframe with indices that have set with proper formatting\n",
    "    \n",
    "    r = re.compile(r'(\\d+\\*\\d+\\.\\d+,|\\d+\\*\\d+,)*(\\d+\\*\\d+\\.\\d+|\\d+\\*\\d+)')\n",
    "    s = df.Sets.astype(str)\n",
    "    m = s.apply(lambda x: len(r.findall(x)) == 1)\n",
    "    if len(m[m == False]) > 0:\n",
    "        print('Please check set formatting at the following indices:\\n')\n",
    "        print(df[m == False].Sets)\n",
    "    else:\n",
    "        print('Set formatting all good')\n",
    "    return m"
   ]
  },
  {
   "cell_type": "code",
   "execution_count": 5,
   "metadata": {},
   "outputs": [],
   "source": [
    "def transform(df):\n",
    "    # verify appropriate formatting of exercise/set data\n",
    "    df['Date'] = df.Date.fillna(method='ffill')\n",
    "    df = df.loc[(check_names(df) == True) & (check_sets(df) == True)].copy()\n",
    "    \n",
    "    # re-format the dataframe so that every set is on a new row\n",
    "    df = (df.set_index(['Date','Exercise'])\n",
    "         .stack()\n",
    "         .str.split(',',expand=True)\n",
    "         .stack()\n",
    "         .unstack(-2)\n",
    "         .reset_index(-1, drop=True)\n",
    "         .reset_index()\n",
    "         )\n",
    "    # split sets from reps\n",
    "    sp = df.Sets.str.split('*',expand=True)\n",
    "    df['reps'] = pd.to_numeric(sp[0])\n",
    "    df['weight'] = pd.to_numeric(sp[1].astype(float))\n",
    "    df.drop('Sets', axis=1, inplace=True)\n",
    "    #rename duplicates\n",
    "    dups = {\n",
    "            'dl':'deadlift',\n",
    "            'bp':'bench press',\n",
    "            'dumbell bp':'dumbbell bench press',\n",
    "            'db bp':'dumbbell bench press',\n",
    "            'db incline press':'dumbbell incline press',\n",
    "            'BB incline press':'barbell incline press',\n",
    "            'close grip bp':'close grip bench press',\n",
    "            'barbell reverse tricep ext':'barbell reverse tricep extension',\n",
    "            'bb curl':'barbell curl',\n",
    "            'db curl':'dumbbell curl',\n",
    "            'standing db shoulder press':'standing dumbbell shoulder press',\n",
    "            'standing db shoulder press':'standing barbell shoulder press',\n",
    "            'standing db shoulder press':'sitting dumbbell shoulder press',\n",
    "            'sitting bb shoulder press':'sitting barbell shoulder press'}\n",
    "    def func(x):\n",
    "        if x in dups:\n",
    "            return dups[x]\n",
    "        else:\n",
    "            return x\n",
    "    df['Exercise'] = df.Exercise.apply(func)\n",
    "    \n",
    "    # name columns in lowercase\n",
    "    df.columns = ['date','exercise','reps','weight']\n",
    "    return df"
   ]
  },
  {
   "cell_type": "code",
   "execution_count": 6,
   "metadata": {},
   "outputs": [
    {
     "name": "stdout",
     "output_type": "stream",
     "text": [
      "Name formatting is all good\n",
      "Set formatting all good\n"
     ]
    }
   ],
   "source": [
    "cleaned_df = transform(df)"
   ]
  },
  {
   "cell_type": "code",
   "execution_count": null,
   "metadata": {},
   "outputs": [],
   "source": [
    "#add 1 rep max column using the epley formula where 1RM = weight (kg) * (1 - reps/30))\n",
    "cleaned_df['1RM'] = cleaned_df.weight * ( 1 + (cleaned_df.reps / 30))"
   ]
  },
  {
   "cell_type": "code",
   "execution_count": 7,
   "metadata": {},
   "outputs": [
    {
     "data": {
      "text/html": [
       "<div>\n",
       "<style scoped>\n",
       "    .dataframe tbody tr th:only-of-type {\n",
       "        vertical-align: middle;\n",
       "    }\n",
       "\n",
       "    .dataframe tbody tr th {\n",
       "        vertical-align: top;\n",
       "    }\n",
       "\n",
       "    .dataframe thead th {\n",
       "        text-align: right;\n",
       "    }\n",
       "</style>\n",
       "<table border=\"1\" class=\"dataframe\">\n",
       "  <thead>\n",
       "    <tr style=\"text-align: right;\">\n",
       "      <th></th>\n",
       "      <th>date</th>\n",
       "      <th>exercise</th>\n",
       "      <th>reps</th>\n",
       "      <th>weight</th>\n",
       "    </tr>\n",
       "  </thead>\n",
       "  <tbody>\n",
       "    <tr>\n",
       "      <th>0</th>\n",
       "      <td>2019-02-03</td>\n",
       "      <td>bench press</td>\n",
       "      <td>12.0</td>\n",
       "      <td>70.0</td>\n",
       "    </tr>\n",
       "    <tr>\n",
       "      <th>1</th>\n",
       "      <td>2019-02-03</td>\n",
       "      <td>bench press</td>\n",
       "      <td>8.0</td>\n",
       "      <td>90.0</td>\n",
       "    </tr>\n",
       "    <tr>\n",
       "      <th>2</th>\n",
       "      <td>2019-02-03</td>\n",
       "      <td>bench press</td>\n",
       "      <td>8.0</td>\n",
       "      <td>90.0</td>\n",
       "    </tr>\n",
       "    <tr>\n",
       "      <th>3</th>\n",
       "      <td>2019-02-03</td>\n",
       "      <td>bench press</td>\n",
       "      <td>8.0</td>\n",
       "      <td>90.0</td>\n",
       "    </tr>\n",
       "    <tr>\n",
       "      <th>4</th>\n",
       "      <td>2019-02-03</td>\n",
       "      <td>bench press</td>\n",
       "      <td>6.0</td>\n",
       "      <td>100.0</td>\n",
       "    </tr>\n",
       "  </tbody>\n",
       "</table>\n",
       "</div>"
      ],
      "text/plain": [
       "        date     exercise  reps  weight\n",
       "0 2019-02-03  bench press  12.0    70.0\n",
       "1 2019-02-03  bench press   8.0    90.0\n",
       "2 2019-02-03  bench press   8.0    90.0\n",
       "3 2019-02-03  bench press   8.0    90.0\n",
       "4 2019-02-03  bench press   6.0   100.0"
      ]
     },
     "execution_count": 7,
     "metadata": {},
     "output_type": "execute_result"
    }
   ],
   "source": [
    "cleaned_df.head()"
   ]
  },
  {
   "cell_type": "code",
   "execution_count": 8,
   "metadata": {},
   "outputs": [],
   "source": [
    "cleaned_df.to_csv('../data/cleaned_data.csv', index=False)"
   ]
  },
  {
   "cell_type": "code",
   "execution_count": null,
   "metadata": {},
   "outputs": [],
   "source": []
  }
 ],
 "metadata": {
  "kernelspec": {
   "display_name": "Python 3",
   "language": "python",
   "name": "python3"
  },
  "language_info": {
   "codemirror_mode": {
    "name": "ipython",
    "version": 3
   },
   "file_extension": ".py",
   "mimetype": "text/x-python",
   "name": "python",
   "nbconvert_exporter": "python",
   "pygments_lexer": "ipython3",
   "version": "3.7.1"
  }
 },
 "nbformat": 4,
 "nbformat_minor": 2
}
