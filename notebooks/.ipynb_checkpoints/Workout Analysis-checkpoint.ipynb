{
 "cells": [
  {
   "cell_type": "markdown",
   "metadata": {},
   "source": [
    "Todo:\n",
    "- "
   ]
  },
  {
   "cell_type": "code",
   "execution_count": null,
   "metadata": {},
   "outputs": [],
   "source": []
  },
  {
   "cell_type": "code",
   "execution_count": 2,
   "metadata": {},
   "outputs": [],
   "source": [
    "import pandas as pd\n",
    "import matplotlib.pyplot as plt\n"
   ]
  },
  {
   "cell_type": "code",
   "execution_count": 7,
   "metadata": {},
   "outputs": [],
   "source": [
    "df = pd.read_excel('../data/workout.xlsx')\n",
    "df = df[['Date','Exercise','Sets']]"
   ]
  },
  {
   "cell_type": "code",
   "execution_count": 9,
   "metadata": {},
   "outputs": [
    {
     "name": "stdout",
     "output_type": "stream",
     "text": [
      "[(12, 70), (8, 90), (8, 90), (8, 90), (6, 100), (6, 100)]\n"
     ]
    }
   ],
   "source": [
    "class Workout(object):\n",
    "    \n",
    "    def __init__(self):\n",
    "        self.exercises = []\n",
    "        \n",
    "    def add_exercise(self,e):\n",
    "        self.exercises.append(e)\n",
    "    \n",
    "    \n",
    "    def __iter__(self):\n",
    "        return self.exercises\n",
    "\n",
    "class Exercise(object):\n",
    "    \n",
    "    def __init__(self,rec, name):\n",
    "        self.name = name.upper()\n",
    "        self.rec = rec\n",
    "        self.d = [(int(s.split('*')[0]) , int(s.split('*')[1])) for s in self.rec.split(',')]\n",
    "        \n",
    "    def max_weight(self):\n",
    "        wt = [x[1] for x in self.d]\n",
    "        return max(wt)\n",
    "    def __repr__(self):\n",
    "        return str(self.d)\n",
    "    def __str__(self):\n",
    "        return str(self.d)\n",
    "    def __iter__(self):\n",
    "        return self.d\n",
    "    \n",
    "    \n",
    "BP = Exercise('12*70,8*90,8*90,8*90,6*100,6*100', \"Bench Press\")\n",
    "print(BP)"
   ]
  },
  {
   "cell_type": "code",
   "execution_count": null,
   "metadata": {},
   "outputs": [],
   "source": []
  }
 ],
 "metadata": {
  "kernelspec": {
   "display_name": "Python 3",
   "language": "python",
   "name": "python3"
  },
  "language_info": {
   "codemirror_mode": {
    "name": "ipython",
    "version": 3
   },
   "file_extension": ".py",
   "mimetype": "text/x-python",
   "name": "python",
   "nbconvert_exporter": "python",
   "pygments_lexer": "ipython3",
   "version": "3.7.1"
  }
 },
 "nbformat": 4,
 "nbformat_minor": 2
}
